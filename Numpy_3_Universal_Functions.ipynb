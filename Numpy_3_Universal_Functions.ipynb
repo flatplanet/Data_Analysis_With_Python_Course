{
  "nbformat": 4,
  "nbformat_minor": 0,
  "metadata": {
    "colab": {
      "provenance": [],
      "authorship_tag": "ABX9TyPcsrSQs9H03EZp/h4gJRzT",
      "include_colab_link": true
    },
    "kernelspec": {
      "name": "python3",
      "display_name": "Python 3"
    },
    "language_info": {
      "name": "python"
    }
  },
  "cells": [
    {
      "cell_type": "markdown",
      "metadata": {
        "id": "view-in-github",
        "colab_type": "text"
      },
      "source": [
        "<a href=\"https://colab.research.google.com/github/flatplanet/Data_Analysis_With_Python_Course/blob/main/Numpy_3_Universal_Functions.ipynb\" target=\"_parent\"><img src=\"https://colab.research.google.com/assets/colab-badge.svg\" alt=\"Open In Colab\"/></a>"
      ]
    },
    {
      "cell_type": "code",
      "source": [
        "import numpy as np"
      ],
      "metadata": {
        "id": "U_tOCcfkL_Tm",
        "colab": {
          "base_uri": "https://localhost:8080/",
          "height": 17
        },
        "outputId": "c09a8f5d-2265-4661-a037-2d697a191cb1"
      },
      "execution_count": null,
      "outputs": [
        {
          "output_type": "display_data",
          "data": {
            "text/plain": [
              "<IPython.core.display.HTML object>"
            ],
            "text/html": [
              "<style> \n",
              "    body {\n",
              "      font-size: 20px;\n",
              "    }\n",
              "  "
            ]
          },
          "metadata": {}
        },
        {
          "output_type": "display_data",
          "data": {
            "text/plain": [
              "<IPython.core.display.HTML object>"
            ],
            "text/html": [
              "<style> \n",
              "    body {\n",
              "      font-size: 28px;\n",
              "    }\n",
              "  "
            ]
          },
          "metadata": {}
        }
      ]
    },
    {
      "cell_type": "markdown",
      "source": [
        "# Numeric Python - Universal Functions (ufuncs)"
      ],
      "metadata": {
        "id": "2eRzPiSf3e3Q"
      }
    },
    {
      "cell_type": "code",
      "source": [
        "np1 = np.array([-3, -2, -1, 0, 1, 2, 3, 4, 5, 6, 7, 8,9])\n",
        "print(np1)"
      ],
      "metadata": {
        "colab": {
          "base_uri": "https://localhost:8080/",
          "height": 52
        },
        "id": "l70xBNUXUGjT",
        "outputId": "8fc2aa67-fd0b-4c5e-d1d7-a23d9701dda3"
      },
      "execution_count": null,
      "outputs": [
        {
          "output_type": "display_data",
          "data": {
            "text/plain": [
              "<IPython.core.display.HTML object>"
            ],
            "text/html": [
              "<style> \n",
              "    body {\n",
              "      font-size: 20px;\n",
              "    }\n",
              "  "
            ]
          },
          "metadata": {}
        },
        {
          "output_type": "display_data",
          "data": {
            "text/plain": [
              "<IPython.core.display.HTML object>"
            ],
            "text/html": [
              "<style> \n",
              "    body {\n",
              "      font-size: 28px;\n",
              "    }\n",
              "  "
            ]
          },
          "metadata": {}
        },
        {
          "output_type": "stream",
          "name": "stdout",
          "text": [
            "[-3 -2 -1  0  1  2  3  4  5  6  7  8  9]\n"
          ]
        }
      ]
    },
    {
      "cell_type": "code",
      "source": [
        "# Square Root\n",
        "print(np.sqrt(np1))"
      ],
      "metadata": {
        "colab": {
          "base_uri": "https://localhost:8080/",
          "height": 211
        },
        "id": "1w066NQFTi8Q",
        "outputId": "908ae3d6-9ee2-44a1-8238-3657cd24ab6f"
      },
      "execution_count": null,
      "outputs": [
        {
          "output_type": "display_data",
          "data": {
            "text/plain": [
              "<IPython.core.display.HTML object>"
            ],
            "text/html": [
              "<style> \n",
              "    body {\n",
              "      font-size: 20px;\n",
              "    }\n",
              "  "
            ]
          },
          "metadata": {}
        },
        {
          "output_type": "display_data",
          "data": {
            "text/plain": [
              "<IPython.core.display.HTML object>"
            ],
            "text/html": [
              "<style> \n",
              "    body {\n",
              "      font-size: 28px;\n",
              "    }\n",
              "  "
            ]
          },
          "metadata": {}
        },
        {
          "output_type": "stream",
          "name": "stdout",
          "text": [
            "[       nan        nan        nan 0.         1.         1.41421356\n",
            " 1.73205081 2.         2.23606798 2.44948974 2.64575131 2.82842712\n",
            " 3.        ]\n"
          ]
        },
        {
          "output_type": "stream",
          "name": "stderr",
          "text": [
            "/tmp/ipython-input-1725249946.py:2: RuntimeWarning: invalid value encountered in sqrt\n",
            "  print(np.sqrt(np1))\n"
          ]
        }
      ]
    },
    {
      "cell_type": "code",
      "source": [
        "# Absolute Value\n",
        "print(np.absolute(np1))"
      ],
      "metadata": {
        "colab": {
          "base_uri": "https://localhost:8080/",
          "height": 52
        },
        "id": "zdHy5jV2TlqB",
        "outputId": "3f9fba68-37ab-4106-aea1-5a84e32d8f27"
      },
      "execution_count": null,
      "outputs": [
        {
          "output_type": "display_data",
          "data": {
            "text/plain": [
              "<IPython.core.display.HTML object>"
            ],
            "text/html": [
              "<style> \n",
              "    body {\n",
              "      font-size: 20px;\n",
              "    }\n",
              "  "
            ]
          },
          "metadata": {}
        },
        {
          "output_type": "display_data",
          "data": {
            "text/plain": [
              "<IPython.core.display.HTML object>"
            ],
            "text/html": [
              "<style> \n",
              "    body {\n",
              "      font-size: 28px;\n",
              "    }\n",
              "  "
            ]
          },
          "metadata": {}
        },
        {
          "output_type": "stream",
          "name": "stdout",
          "text": [
            "[3 2 1 0 1 2 3 4 5 6 7 8 9]\n"
          ]
        }
      ]
    },
    {
      "cell_type": "code",
      "source": [
        "# Exponential\n",
        "print(np.exp(np1))"
      ],
      "metadata": {
        "colab": {
          "base_uri": "https://localhost:8080/",
          "height": 156
        },
        "id": "XzN8Co4YTnaJ",
        "outputId": "2cfd41f8-f98f-4577-ca55-d70153d5bbb5"
      },
      "execution_count": null,
      "outputs": [
        {
          "output_type": "display_data",
          "data": {
            "text/plain": [
              "<IPython.core.display.HTML object>"
            ],
            "text/html": [
              "<style> \n",
              "    body {\n",
              "      font-size: 20px;\n",
              "    }\n",
              "  "
            ]
          },
          "metadata": {}
        },
        {
          "output_type": "display_data",
          "data": {
            "text/plain": [
              "<IPython.core.display.HTML object>"
            ],
            "text/html": [
              "<style> \n",
              "    body {\n",
              "      font-size: 28px;\n",
              "    }\n",
              "  "
            ]
          },
          "metadata": {}
        },
        {
          "output_type": "stream",
          "name": "stdout",
          "text": [
            "[4.97870684e-02 1.35335283e-01 3.67879441e-01 1.00000000e+00\n",
            " 2.71828183e+00 7.38905610e+00 2.00855369e+01 5.45981500e+01\n",
            " 1.48413159e+02 4.03428793e+02 1.09663316e+03 2.98095799e+03\n",
            " 8.10308393e+03]\n"
          ]
        }
      ]
    },
    {
      "cell_type": "code",
      "source": [
        "# Min/Max\n",
        "print(np1)\n",
        "# Min\n",
        "#np.min(np1)\n",
        "print(np.max(np1))"
      ],
      "metadata": {
        "colab": {
          "base_uri": "https://localhost:8080/",
          "height": 86
        },
        "id": "fxJYgPSiTojx",
        "outputId": "9345586c-0ab1-4aba-c6c9-1a07268acacc"
      },
      "execution_count": null,
      "outputs": [
        {
          "output_type": "display_data",
          "data": {
            "text/plain": [
              "<IPython.core.display.HTML object>"
            ],
            "text/html": [
              "<style> \n",
              "    body {\n",
              "      font-size: 20px;\n",
              "    }\n",
              "  "
            ]
          },
          "metadata": {}
        },
        {
          "output_type": "display_data",
          "data": {
            "text/plain": [
              "<IPython.core.display.HTML object>"
            ],
            "text/html": [
              "<style> \n",
              "    body {\n",
              "      font-size: 28px;\n",
              "    }\n",
              "  "
            ]
          },
          "metadata": {}
        },
        {
          "output_type": "stream",
          "name": "stdout",
          "text": [
            "[-3 -2 -1  0  1  2  3  4  5  6  7  8  9]\n",
            "9\n"
          ]
        }
      ]
    },
    {
      "cell_type": "code",
      "source": [
        "# Positive/Negative -1 = negative 1 = positive\n",
        "print(np.sign(np1))"
      ],
      "metadata": {
        "colab": {
          "base_uri": "https://localhost:8080/",
          "height": 52
        },
        "id": "5nvpheyqTqWB",
        "outputId": "5ed17d32-61b2-4174-fb69-807463d7fda4"
      },
      "execution_count": null,
      "outputs": [
        {
          "output_type": "display_data",
          "data": {
            "text/plain": [
              "<IPython.core.display.HTML object>"
            ],
            "text/html": [
              "<style> \n",
              "    body {\n",
              "      font-size: 20px;\n",
              "    }\n",
              "  "
            ]
          },
          "metadata": {}
        },
        {
          "output_type": "display_data",
          "data": {
            "text/plain": [
              "<IPython.core.display.HTML object>"
            ],
            "text/html": [
              "<style> \n",
              "    body {\n",
              "      font-size: 28px;\n",
              "    }\n",
              "  "
            ]
          },
          "metadata": {}
        },
        {
          "output_type": "stream",
          "name": "stdout",
          "text": [
            "[-1 -1 -1  0  1  1  1  1  1  1  1  1  1]\n"
          ]
        }
      ]
    },
    {
      "cell_type": "code",
      "source": [
        "# Trig Functions - Sin, Cos, Log\n",
        "#print(np.sin(np1))\n",
        "#print(np.cos(np1))\n",
        "print(np.log(np1))"
      ],
      "metadata": {
        "colab": {
          "base_uri": "https://localhost:8080/",
          "height": 280
        },
        "id": "dugddLNRTsS5",
        "outputId": "47e3952c-713d-4d64-e570-8fe259c3db18"
      },
      "execution_count": null,
      "outputs": [
        {
          "output_type": "display_data",
          "data": {
            "text/plain": [
              "<IPython.core.display.HTML object>"
            ],
            "text/html": [
              "<style> \n",
              "    body {\n",
              "      font-size: 20px;\n",
              "    }\n",
              "  "
            ]
          },
          "metadata": {}
        },
        {
          "output_type": "display_data",
          "data": {
            "text/plain": [
              "<IPython.core.display.HTML object>"
            ],
            "text/html": [
              "<style> \n",
              "    body {\n",
              "      font-size: 28px;\n",
              "    }\n",
              "  "
            ]
          },
          "metadata": {}
        },
        {
          "output_type": "stream",
          "name": "stdout",
          "text": [
            "[       nan        nan        nan       -inf 0.         0.69314718\n",
            " 1.09861229 1.38629436 1.60943791 1.79175947 1.94591015 2.07944154\n",
            " 2.19722458]\n"
          ]
        },
        {
          "output_type": "stream",
          "name": "stderr",
          "text": [
            "/tmp/ipython-input-2935338023.py:4: RuntimeWarning: divide by zero encountered in log\n",
            "  print(np.log(np1))\n",
            "/tmp/ipython-input-2935338023.py:4: RuntimeWarning: invalid value encountered in log\n",
            "  print(np.log(np1))\n"
          ]
        }
      ]
    },
    {
      "cell_type": "code",
      "source": [
        "# Master List\n",
        "# https://numpy.org/doc/stable/reference/ufuncs.html"
      ],
      "metadata": {
        "colab": {
          "base_uri": "https://localhost:8080/",
          "height": 17
        },
        "id": "kz45MI-2Tvwh",
        "outputId": "68e6ca65-2b97-481a-8efc-c2a0ac374b1c"
      },
      "execution_count": null,
      "outputs": [
        {
          "output_type": "display_data",
          "data": {
            "text/plain": [
              "<IPython.core.display.HTML object>"
            ],
            "text/html": [
              "<style> \n",
              "    body {\n",
              "      font-size: 20px;\n",
              "    }\n",
              "  "
            ]
          },
          "metadata": {}
        },
        {
          "output_type": "display_data",
          "data": {
            "text/plain": [
              "<IPython.core.display.HTML object>"
            ],
            "text/html": [
              "<style> \n",
              "    body {\n",
              "      font-size: 28px;\n",
              "    }\n",
              "  "
            ]
          },
          "metadata": {}
        }
      ]
    },
    {
      "cell_type": "code",
      "source": [],
      "metadata": {
        "id": "kAFtxqLQTx8f"
      },
      "execution_count": null,
      "outputs": []
    }
  ]
}