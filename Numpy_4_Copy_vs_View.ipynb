{
  "nbformat": 4,
  "nbformat_minor": 0,
  "metadata": {
    "colab": {
      "provenance": [],
      "authorship_tag": "ABX9TyNmdBRDa+hTC3KTy2vcNbKR",
      "include_colab_link": true
    },
    "kernelspec": {
      "name": "python3",
      "display_name": "Python 3"
    },
    "language_info": {
      "name": "python"
    }
  },
  "cells": [
    {
      "cell_type": "markdown",
      "metadata": {
        "id": "view-in-github",
        "colab_type": "text"
      },
      "source": [
        "<a href=\"https://colab.research.google.com/github/flatplanet/Data_Analysis_With_Python_Course/blob/main/Numpy_4_Copy_vs_View.ipynb\" target=\"_parent\"><img src=\"https://colab.research.google.com/assets/colab-badge.svg\" alt=\"Open In Colab\"/></a>"
      ]
    },
    {
      "cell_type": "markdown",
      "source": [
        "# Numpy Arrays - Copy vs View"
      ],
      "metadata": {
        "id": "BUSmLD92X8V3"
      }
    },
    {
      "cell_type": "code",
      "execution_count": 1,
      "metadata": {
        "id": "f8rklk7rXr2S"
      },
      "outputs": [],
      "source": [
        "import numpy as np"
      ]
    },
    {
      "cell_type": "code",
      "source": [
        "np1 = np.array([1,2,3,4,5])\n",
        "# Create a view (Linked to original array)\n",
        "np2 = np1.view()"
      ],
      "metadata": {
        "id": "41dG6wBobauQ"
      },
      "execution_count": 2,
      "outputs": []
    },
    {
      "cell_type": "code",
      "source": [
        "# Print these out\n",
        "print(f'Original np1: {np1}')\n",
        "print(f'Original/View np2: {np2}')"
      ],
      "metadata": {
        "colab": {
          "base_uri": "https://localhost:8080/"
        },
        "id": "XKaFLfDOcA7P",
        "outputId": "d0005eab-5848-482f-80e9-67366201aa3c"
      },
      "execution_count": 3,
      "outputs": [
        {
          "output_type": "stream",
          "name": "stdout",
          "text": [
            "Original np1: [1 2 3 4 5]\n",
            "Original/View np2: [1 2 3 4 5]\n"
          ]
        }
      ]
    },
    {
      "cell_type": "code",
      "source": [
        "# Change our original\n",
        "np1[0] = 41"
      ],
      "metadata": {
        "id": "U5F3w7_DcjJG"
      },
      "execution_count": 4,
      "outputs": []
    },
    {
      "cell_type": "code",
      "source": [
        "# Print these out\n",
        "print(f'Changed np1: {np1}')\n",
        "print(f'Original/View np2: {np2}')"
      ],
      "metadata": {
        "colab": {
          "base_uri": "https://localhost:8080/"
        },
        "id": "jFuu-MevcsR3",
        "outputId": "0828da5a-666c-4341-b154-8fe3c6a1d949"
      },
      "execution_count": 5,
      "outputs": [
        {
          "output_type": "stream",
          "name": "stdout",
          "text": [
            "Changed np1: [41  2  3  4  5]\n",
            "Original/View np2: [41  2  3  4  5]\n"
          ]
        }
      ]
    },
    {
      "cell_type": "code",
      "source": [
        "# Create a Copy that is NOT linked to the original\n",
        "np3 = np1.copy()\n",
        "#Alternative Method:  np3 = np.array(np1)"
      ],
      "metadata": {
        "id": "HhlNWn6Lcvfe"
      },
      "execution_count": 6,
      "outputs": []
    },
    {
      "cell_type": "code",
      "source": [
        "# Print these out\n",
        "print(f'Original np1: {np1}')\n",
        "print(f'Original/Copy np3: {np3}')"
      ],
      "metadata": {
        "colab": {
          "base_uri": "https://localhost:8080/"
        },
        "id": "6BZVbYg_c3_R",
        "outputId": "a6c650d1-ab91-4dfc-a7f8-2fdb9b8c85cc"
      },
      "execution_count": 7,
      "outputs": [
        {
          "output_type": "stream",
          "name": "stdout",
          "text": [
            "Original np1: [41  2  3  4  5]\n",
            "Original/Copy np3: [41  2  3  4  5]\n"
          ]
        }
      ]
    },
    {
      "cell_type": "code",
      "source": [
        "# Change our np1 again\n",
        "np1[0] = 41"
      ],
      "metadata": {
        "id": "pdzBt-_sdCRu"
      },
      "execution_count": 8,
      "outputs": []
    },
    {
      "cell_type": "code",
      "source": [
        "# Print these out\n",
        "print(f'Changed np1: {np1}')\n",
        "print(f'Original/Copy np3: {np3}')"
      ],
      "metadata": {
        "colab": {
          "base_uri": "https://localhost:8080/"
        },
        "id": "AtE4kVXbdHGC",
        "outputId": "38ab6394-4a65-47a5-8492-1ef96b9c1e92"
      },
      "execution_count": 9,
      "outputs": [
        {
          "output_type": "stream",
          "name": "stdout",
          "text": [
            "Changed np1: [41  2  3  4  5]\n",
            "Original/Copy np3: [41  2  3  4  5]\n"
          ]
        }
      ]
    },
    {
      "cell_type": "code",
      "source": [],
      "metadata": {
        "id": "LgJp1GY3dKle"
      },
      "execution_count": 9,
      "outputs": []
    }
  ]
}