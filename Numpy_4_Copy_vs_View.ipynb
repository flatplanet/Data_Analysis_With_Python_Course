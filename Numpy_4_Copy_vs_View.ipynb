{
  "nbformat": 4,
  "nbformat_minor": 0,
  "metadata": {
    "colab": {
      "provenance": [],
      "authorship_tag": "ABX9TyOnCHiO0EE/9NfU/bFc3HqT",
      "include_colab_link": true
    },
    "kernelspec": {
      "name": "python3",
      "display_name": "Python 3"
    },
    "language_info": {
      "name": "python"
    }
  },
  "cells": [
    {
      "cell_type": "markdown",
      "metadata": {
        "id": "view-in-github",
        "colab_type": "text"
      },
      "source": [
        "<a href=\"https://colab.research.google.com/github/flatplanet/Data_Analysis_With_Python_Course/blob/main/Numpy_4_Copy_vs_View.ipynb\" target=\"_parent\"><img src=\"https://colab.research.google.com/assets/colab-badge.svg\" alt=\"Open In Colab\"/></a>"
      ]
    },
    {
      "cell_type": "markdown",
      "source": [
        "# Numpy Arrays - Copy vs View"
      ],
      "metadata": {
        "id": "BUSmLD92X8V3"
      }
    },
    {
      "cell_type": "code",
      "execution_count": 1,
      "metadata": {
        "id": "f8rklk7rXr2S"
      },
      "outputs": [],
      "source": [
        "import numpy as np"
      ]
    },
    {
      "cell_type": "code",
      "source": [
        "np1 = np.array([1,2,3,4,5])\n",
        "# create a view\n",
        "np2 = np1.view()\n",
        "print(f'Original np1: {np1}')\n",
        "print(f'View np2: {np2}')\n",
        "np1[0] = 41\n",
        "print(f'Changed np1: {np1}')\n",
        "print(f'Original View np2: {np2}')"
      ],
      "metadata": {
        "colab": {
          "base_uri": "https://localhost:8080/"
        },
        "id": "-XO755JbX_1_",
        "outputId": "4cb9ab46-217d-4e33-ba27-5097394ba3e8"
      },
      "execution_count": 2,
      "outputs": [
        {
          "output_type": "stream",
          "name": "stdout",
          "text": [
            "Original np1: [1 2 3 4 5]\n",
            "View np2: [1 2 3 4 5]\n",
            "Changed np1: [41  2  3  4  5]\n",
            "Original View np2: [41  2  3  4  5]\n"
          ]
        }
      ]
    },
    {
      "cell_type": "code",
      "source": [
        "# Create a copy\n",
        "np3 = np1.copy()\n",
        "print(f'Original np1: {np1}')\n",
        "print(f'Copy np3: {np3}')\n",
        "# changed np1\n",
        "np1[0] = 1\n",
        "print(f'Changed np1: {np1}')\n",
        "print(f'Original Copy np3: {np3}')"
      ],
      "metadata": {
        "colab": {
          "base_uri": "https://localhost:8080/"
        },
        "id": "Meh7t36HYxPD",
        "outputId": "a885db48-bb96-441c-df59-5ed62ebe928d"
      },
      "execution_count": 3,
      "outputs": [
        {
          "output_type": "stream",
          "name": "stdout",
          "text": [
            "Original np1: [41  2  3  4  5]\n",
            "Copy np3: [41  2  3  4  5]\n",
            "Changed np1: [1 2 3 4 5]\n",
            "Original Copy np3: [41  2  3  4  5]\n"
          ]
        }
      ]
    },
    {
      "cell_type": "code",
      "source": [
        "# np3 = np.array(np1)"
      ],
      "metadata": {
        "id": "DZJMO5T-aCk5"
      },
      "execution_count": 4,
      "outputs": []
    },
    {
      "cell_type": "code",
      "source": [],
      "metadata": {
        "id": "41dG6wBobauQ"
      },
      "execution_count": 4,
      "outputs": []
    }
  ]
}