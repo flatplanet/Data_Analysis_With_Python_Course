{
  "nbformat": 4,
  "nbformat_minor": 0,
  "metadata": {
    "colab": {
      "provenance": [],
      "authorship_tag": "ABX9TyOijNdv2lBFOVuY3ciKuxeL",
      "include_colab_link": true
    },
    "kernelspec": {
      "name": "python3",
      "display_name": "Python 3"
    },
    "language_info": {
      "name": "python"
    }
  },
  "cells": [
    {
      "cell_type": "markdown",
      "metadata": {
        "id": "view-in-github",
        "colab_type": "text"
      },
      "source": [
        "<a href=\"https://colab.research.google.com/github/flatplanet/Data_Analysis_With_Python_Course/blob/main/Python_Data_Analysis_Course_Numpy_1.ipynb\" target=\"_parent\"><img src=\"https://colab.research.google.com/assets/colab-badge.svg\" alt=\"Open In Colab\"/></a>"
      ]
    },
    {
      "cell_type": "markdown",
      "source": [
        "# Numeric Python"
      ],
      "metadata": {
        "id": "2eRzPiSf3e3Q"
      }
    },
    {
      "cell_type": "code",
      "source": [
        "# Python list\n",
        "my_list = [1,2,3,4,5, \"John\", True]\n",
        "my_list2 = [6,7,8, my_list]"
      ],
      "metadata": {
        "id": "pAiX8rD29IUk"
      },
      "execution_count": 20,
      "outputs": []
    },
    {
      "cell_type": "code",
      "source": [
        "# Import Numpy\n",
        "import numpy as np"
      ],
      "metadata": {
        "id": "fXkJ0nN56WYu"
      },
      "execution_count": 26,
      "outputs": []
    },
    {
      "cell_type": "code",
      "source": [
        "# Create a numpy array\n",
        "np1 = np.array([0,1,2,3,4,5,6,7,8,9])\n",
        "print(np1)\n",
        "print(np1[2])"
      ],
      "metadata": {
        "colab": {
          "base_uri": "https://localhost:8080/"
        },
        "id": "F24Jv3JQ-Lda",
        "outputId": "e281ad26-f113-457d-9392-f78681c216b9"
      },
      "execution_count": 25,
      "outputs": [
        {
          "output_type": "stream",
          "name": "stdout",
          "text": [
            "[0 1 2 3 4 5 6 7 8 9]\n",
            "2\n"
          ]
        }
      ]
    },
    {
      "cell_type": "code",
      "source": [
        "# Shape - shows the number of elements in the array like the python len function\n",
        "print(np1.shape)"
      ],
      "metadata": {
        "colab": {
          "base_uri": "https://localhost:8080/"
        },
        "id": "7eoanfJe6Xda",
        "outputId": "36dabfe1-916a-4ca5-d4ec-37ab4eb627b6"
      },
      "execution_count": 40,
      "outputs": [
        {
          "output_type": "stream",
          "name": "stdout",
          "text": [
            "(10,)\n"
          ]
        }
      ]
    },
    {
      "cell_type": "code",
      "source": [
        "# Arange\n",
        "np2 = np.arange(10)\n",
        "print(np2)"
      ],
      "metadata": {
        "colab": {
          "base_uri": "https://localhost:8080/"
        },
        "id": "UNI1MzIv6atK",
        "outputId": "82f1ebb2-0f50-47d8-b737-4d19449fe5b2"
      },
      "execution_count": 43,
      "outputs": [
        {
          "output_type": "stream",
          "name": "stdout",
          "text": [
            "[0 1 2 3 4 5 6 7 8 9]\n"
          ]
        }
      ]
    },
    {
      "cell_type": "code",
      "source": [
        "# Step\n",
        "np3 = np.arange(0,10,2)\n",
        "print(np3)"
      ],
      "metadata": {
        "colab": {
          "base_uri": "https://localhost:8080/"
        },
        "id": "_NxK9UMK6b3p",
        "outputId": "7cf87c19-adec-48a1-f1c9-01afe10427ca"
      },
      "execution_count": 48,
      "outputs": [
        {
          "output_type": "stream",
          "name": "stdout",
          "text": [
            "[0 2 4 6 8]\n"
          ]
        }
      ]
    },
    {
      "cell_type": "code",
      "source": [
        "# Zeros\n",
        "np4 = np.zeros(10)\n",
        "print(np4)"
      ],
      "metadata": {
        "colab": {
          "base_uri": "https://localhost:8080/"
        },
        "id": "fsLQ6tx56cxp",
        "outputId": "67266de2-4179-48b6-f760-44b1c62ec075"
      },
      "execution_count": 49,
      "outputs": [
        {
          "output_type": "stream",
          "name": "stdout",
          "text": [
            "[0. 0. 0. 0. 0. 0. 0. 0. 0. 0.]\n"
          ]
        }
      ]
    },
    {
      "cell_type": "code",
      "source": [
        "# Multi-Dimensional Arrays with Zeros\n",
        "np5 = np.zeros((5,10))\n",
        "print(np5)"
      ],
      "metadata": {
        "colab": {
          "base_uri": "https://localhost:8080/"
        },
        "id": "2skp0Tb26d54",
        "outputId": "1f4301f1-dace-498e-e8e9-d6432b882558"
      },
      "execution_count": 51,
      "outputs": [
        {
          "output_type": "stream",
          "name": "stdout",
          "text": [
            "[[0. 0. 0. 0. 0. 0. 0. 0. 0. 0.]\n",
            " [0. 0. 0. 0. 0. 0. 0. 0. 0. 0.]\n",
            " [0. 0. 0. 0. 0. 0. 0. 0. 0. 0.]\n",
            " [0. 0. 0. 0. 0. 0. 0. 0. 0. 0.]\n",
            " [0. 0. 0. 0. 0. 0. 0. 0. 0. 0.]]\n"
          ]
        }
      ]
    },
    {
      "cell_type": "code",
      "source": [
        "# Full\n",
        "np6 = np.full((10), \"Bob\")\n",
        "print(np6)"
      ],
      "metadata": {
        "colab": {
          "base_uri": "https://localhost:8080/"
        },
        "id": "0kuEV8wY6hXg",
        "outputId": "5aff931a-cfa5-465a-a218-8c382a3d7dd5"
      },
      "execution_count": 54,
      "outputs": [
        {
          "output_type": "stream",
          "name": "stdout",
          "text": [
            "['Bob' 'Bob' 'Bob' 'Bob' 'Bob' 'Bob' 'Bob' 'Bob' 'Bob' 'Bob']\n"
          ]
        }
      ]
    },
    {
      "cell_type": "code",
      "source": [
        "# Multi-Dimensional Array with Full\n",
        "np7 = np.full((2, 10), \"Bob\")\n",
        "print(np7)"
      ],
      "metadata": {
        "colab": {
          "base_uri": "https://localhost:8080/"
        },
        "id": "PNkcnf9S6iYY",
        "outputId": "92917061-50e1-4a8e-fdb7-4950048dfbb3"
      },
      "execution_count": 56,
      "outputs": [
        {
          "output_type": "stream",
          "name": "stdout",
          "text": [
            "[['Bob' 'Bob' 'Bob' 'Bob' 'Bob' 'Bob' 'Bob' 'Bob' 'Bob' 'Bob']\n",
            " ['Bob' 'Bob' 'Bob' 'Bob' 'Bob' 'Bob' 'Bob' 'Bob' 'Bob' 'Bob']]\n"
          ]
        }
      ]
    },
    {
      "cell_type": "code",
      "source": [
        "# Convert Python List to Numpy Array\n",
        "# my_list\n",
        "my_list = [0,1,2,3,4,5]\n",
        "np8 = np.array(my_list)\n",
        "print(np8)\n",
        "print(my_list)"
      ],
      "metadata": {
        "colab": {
          "base_uri": "https://localhost:8080/"
        },
        "id": "1i4ZasXd6l8Q",
        "outputId": "8fc5308a-5614-4899-9036-7ff2bff0ab6e"
      },
      "execution_count": 62,
      "outputs": [
        {
          "output_type": "stream",
          "name": "stdout",
          "text": [
            "[0 1 2 3 4 5]\n",
            "[0, 1, 2, 3, 4, 5]\n"
          ]
        }
      ]
    },
    {
      "cell_type": "code",
      "source": [],
      "metadata": {
        "id": "in3I8CdM6ohI"
      },
      "execution_count": null,
      "outputs": []
    }
  ]
}