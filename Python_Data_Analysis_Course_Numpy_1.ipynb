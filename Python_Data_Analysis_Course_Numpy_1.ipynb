{
  "nbformat": 4,
  "nbformat_minor": 0,
  "metadata": {
    "colab": {
      "provenance": [],
      "authorship_tag": "ABX9TyP+vZI3vvwLKL0hTa6eKbhl",
      "include_colab_link": true
    },
    "kernelspec": {
      "name": "python3",
      "display_name": "Python 3"
    },
    "language_info": {
      "name": "python"
    }
  },
  "cells": [
    {
      "cell_type": "markdown",
      "metadata": {
        "id": "view-in-github",
        "colab_type": "text"
      },
      "source": [
        "<a href=\"https://colab.research.google.com/github/flatplanet/Data_Analysis_With_Python_Course/blob/main/Python_Data_Analysis_Course_Numpy_1.ipynb\" target=\"_parent\"><img src=\"https://colab.research.google.com/assets/colab-badge.svg\" alt=\"Open In Colab\"/></a>"
      ]
    },
    {
      "cell_type": "markdown",
      "source": [
        "# Numeric Python"
      ],
      "metadata": {
        "id": "2eRzPiSf3e3Q"
      }
    },
    {
      "cell_type": "code",
      "source": [
        "# Import Numpy\n"
      ],
      "metadata": {
        "id": "fXkJ0nN56WYu"
      },
      "execution_count": 9,
      "outputs": []
    },
    {
      "cell_type": "code",
      "source": [
        "# Shape"
      ],
      "metadata": {
        "id": "7eoanfJe6Xda"
      },
      "execution_count": 10,
      "outputs": []
    },
    {
      "cell_type": "code",
      "source": [
        "# Arange"
      ],
      "metadata": {
        "id": "UNI1MzIv6atK"
      },
      "execution_count": 11,
      "outputs": []
    },
    {
      "cell_type": "code",
      "source": [
        "# Step"
      ],
      "metadata": {
        "id": "_NxK9UMK6b3p"
      },
      "execution_count": 12,
      "outputs": []
    },
    {
      "cell_type": "code",
      "source": [
        "# Zeros"
      ],
      "metadata": {
        "id": "fsLQ6tx56cxp"
      },
      "execution_count": 13,
      "outputs": []
    },
    {
      "cell_type": "code",
      "source": [
        "# Multi-Dimensional Arrays with Zeros"
      ],
      "metadata": {
        "id": "2skp0Tb26d54"
      },
      "execution_count": 14,
      "outputs": []
    },
    {
      "cell_type": "code",
      "source": [
        "# Full"
      ],
      "metadata": {
        "id": "0kuEV8wY6hXg"
      },
      "execution_count": 15,
      "outputs": []
    },
    {
      "cell_type": "code",
      "source": [
        "# Multi-Dimensional Array with Full"
      ],
      "metadata": {
        "id": "PNkcnf9S6iYY"
      },
      "execution_count": 16,
      "outputs": []
    },
    {
      "cell_type": "code",
      "source": [
        "# Convert Python List to Numpy Array"
      ],
      "metadata": {
        "id": "1i4ZasXd6l8Q"
      },
      "execution_count": 17,
      "outputs": []
    },
    {
      "cell_type": "code",
      "source": [],
      "metadata": {
        "id": "in3I8CdM6ohI"
      },
      "execution_count": null,
      "outputs": []
    }
  ]
}