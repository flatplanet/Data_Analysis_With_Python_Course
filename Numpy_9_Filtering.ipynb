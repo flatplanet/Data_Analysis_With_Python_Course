{
  "nbformat": 4,
  "nbformat_minor": 0,
  "metadata": {
    "colab": {
      "provenance": [],
      "authorship_tag": "ABX9TyMOaxYbIQc3YSRJltM8DcvH",
      "include_colab_link": true
    },
    "kernelspec": {
      "name": "python3",
      "display_name": "Python 3"
    },
    "language_info": {
      "name": "python"
    }
  },
  "cells": [
    {
      "cell_type": "markdown",
      "metadata": {
        "id": "view-in-github",
        "colab_type": "text"
      },
      "source": [
        "<a href=\"https://colab.research.google.com/github/flatplanet/Data_Analysis_With_Python_Course/blob/main/Numpy_9_Filtering.ipynb\" target=\"_parent\"><img src=\"https://colab.research.google.com/assets/colab-badge.svg\" alt=\"Open In Colab\"/></a>"
      ]
    },
    {
      "cell_type": "markdown",
      "source": [
        "# Numpy Arrays - Filtering"
      ],
      "metadata": {
        "id": "RfaTSU--r8_0"
      }
    },
    {
      "cell_type": "code",
      "execution_count": 1,
      "metadata": {
        "id": "gGf2Qg5KryfC"
      },
      "outputs": [],
      "source": [
        "import numpy as np"
      ]
    },
    {
      "cell_type": "code",
      "source": [
        "# Filter Arrays with Boolean Index Lists\n",
        "np1 = np.array([1,2,3,4,5,6,7,8,9,10])"
      ],
      "metadata": {
        "id": "o4F8Gz08r6J5"
      },
      "execution_count": 2,
      "outputs": []
    },
    {
      "cell_type": "code",
      "source": [
        "# Filter Out The First two Items\n",
        "x = [True, True, False, False, False, False, False, False, False, False, ]\n",
        "print(np1[x])"
      ],
      "metadata": {
        "colab": {
          "base_uri": "https://localhost:8080/"
        },
        "id": "wBShjsA-sAAh",
        "outputId": "2df1b236-2b2b-4841-da7d-d9f18b9ffa46"
      },
      "execution_count": 3,
      "outputs": [
        {
          "output_type": "stream",
          "name": "stdout",
          "text": [
            "[1 2]\n"
          ]
        }
      ]
    },
    {
      "cell_type": "code",
      "source": [
        "# Filtered Lists\n",
        "filtered = []\n",
        "for item in np1:\n",
        "  if item % 2 == 0:\n",
        "    filtered.append(True)\n",
        "  else:\n",
        "    filtered.append(False)\n",
        "\n",
        "print(np1)\n",
        "print(filtered)\n",
        "print(np1[filtered])\n",
        "\n"
      ],
      "metadata": {
        "colab": {
          "base_uri": "https://localhost:8080/"
        },
        "id": "0dLLkPj1sMlo",
        "outputId": "cc932df3-0aff-4a93-c01a-7b1caa10f8dc"
      },
      "execution_count": 4,
      "outputs": [
        {
          "output_type": "stream",
          "name": "stdout",
          "text": [
            "[ 1  2  3  4  5  6  7  8  9 10]\n",
            "[False, True, False, True, False, True, False, True, False, True]\n",
            "[ 2  4  6  8 10]\n"
          ]
        }
      ]
    },
    {
      "cell_type": "code",
      "source": [
        "# Use any logic\n",
        "# Filtered Lists\n",
        "filtered = []\n",
        "for item in np1:\n",
        "  if item > 5:\n",
        "    filtered.append(True)\n",
        "  else:\n",
        "    filtered.append(False)\n",
        "\n",
        "print(np1)\n",
        "print(filtered)\n",
        "print(np1[filtered])\n"
      ],
      "metadata": {
        "colab": {
          "base_uri": "https://localhost:8080/"
        },
        "id": "KA-qEDbOsOYR",
        "outputId": "40bad555-a202-4afa-b977-4084e128e7aa"
      },
      "execution_count": 5,
      "outputs": [
        {
          "output_type": "stream",
          "name": "stdout",
          "text": [
            "[ 1  2  3  4  5  6  7  8  9 10]\n",
            "[False, False, False, False, False, True, True, True, True, True]\n",
            "[ 6  7  8  9 10]\n"
          ]
        }
      ]
    },
    {
      "cell_type": "code",
      "source": [
        "# Use Shorthand\n",
        "filtered = np1 % 2 == 1\n",
        "print(np1[filtered])"
      ],
      "metadata": {
        "colab": {
          "base_uri": "https://localhost:8080/"
        },
        "id": "XLzv3p3usQQM",
        "outputId": "cd98250f-06e4-4ef7-906b-aa95b003343a"
      },
      "execution_count": 6,
      "outputs": [
        {
          "output_type": "stream",
          "name": "stdout",
          "text": [
            "[1 3 5 7 9]\n"
          ]
        }
      ]
    },
    {
      "cell_type": "code",
      "source": [],
      "metadata": {
        "id": "HfQxA6NwsSiJ"
      },
      "execution_count": 6,
      "outputs": []
    }
  ]
}