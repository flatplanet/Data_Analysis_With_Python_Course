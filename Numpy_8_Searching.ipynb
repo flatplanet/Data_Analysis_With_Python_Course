{
  "nbformat": 4,
  "nbformat_minor": 0,
  "metadata": {
    "colab": {
      "provenance": [],
      "authorship_tag": "ABX9TyNN875d/12Ikm8SBA8ErXzo",
      "include_colab_link": true
    },
    "kernelspec": {
      "name": "python3",
      "display_name": "Python 3"
    },
    "language_info": {
      "name": "python"
    }
  },
  "cells": [
    {
      "cell_type": "markdown",
      "metadata": {
        "id": "view-in-github",
        "colab_type": "text"
      },
      "source": [
        "<a href=\"https://colab.research.google.com/github/flatplanet/Data_Analysis_With_Python_Course/blob/main/Numpy_8_Searching.ipynb\" target=\"_parent\"><img src=\"https://colab.research.google.com/assets/colab-badge.svg\" alt=\"Open In Colab\"/></a>"
      ]
    },
    {
      "cell_type": "markdown",
      "source": [
        "# Numpy Arrays - Searching"
      ],
      "metadata": {
        "id": "ycRiH4uNovxw"
      }
    },
    {
      "cell_type": "code",
      "execution_count": 1,
      "metadata": {
        "id": "smYlgYEjoehJ"
      },
      "outputs": [],
      "source": [
        "import numpy as np"
      ]
    },
    {
      "cell_type": "code",
      "source": [
        "# Searching returns index number\n",
        "np1 = np.array([1,2,3,4,5,6,7,8,9,10])\n",
        "x = np.where(np1 == 3)\n",
        "print(x[0])\n",
        "print(np1[x])\n",
        "\n"
      ],
      "metadata": {
        "id": "ALPHF8SXoq-3",
        "colab": {
          "base_uri": "https://localhost:8080/"
        },
        "outputId": "8240435b-dae2-40dc-97f4-1116303434b5"
      },
      "execution_count": 2,
      "outputs": [
        {
          "output_type": "stream",
          "name": "stdout",
          "text": [
            "[2]\n",
            "[3]\n"
          ]
        }
      ]
    },
    {
      "cell_type": "code",
      "source": [
        "# More than 1 Item\n",
        "np1 = np.array([1,2,3,4,5,6,7,8,9,10,3])\n",
        "x = np.where(np1 == 3)\n",
        "print(x)"
      ],
      "metadata": {
        "id": "KQisqnWWo1A_",
        "colab": {
          "base_uri": "https://localhost:8080/"
        },
        "outputId": "92f3b761-bf50-4da3-9363-23d542db3003"
      },
      "execution_count": 3,
      "outputs": [
        {
          "output_type": "stream",
          "name": "stdout",
          "text": [
            "(array([ 2, 10]),)\n"
          ]
        }
      ]
    },
    {
      "cell_type": "code",
      "source": [
        "# Print them out\n",
        "print(np1[x])"
      ],
      "metadata": {
        "colab": {
          "base_uri": "https://localhost:8080/"
        },
        "id": "2zml24l-pE_O",
        "outputId": "760dec3f-a7c4-4e86-9e6d-6cf23705b0c2"
      },
      "execution_count": 4,
      "outputs": [
        {
          "output_type": "stream",
          "name": "stdout",
          "text": [
            "[3 3]\n"
          ]
        }
      ]
    },
    {
      "cell_type": "code",
      "source": [
        "# Return Even Items\n",
        "y = np.where(np1 % 2 == 0)\n",
        "print(y)\n",
        "print(np1[y])"
      ],
      "metadata": {
        "colab": {
          "base_uri": "https://localhost:8080/"
        },
        "id": "s56pXaPMpGq8",
        "outputId": "4b860fa7-f184-4962-b4a3-dc9496a5a08f"
      },
      "execution_count": 5,
      "outputs": [
        {
          "output_type": "stream",
          "name": "stdout",
          "text": [
            "(array([1, 3, 5, 7, 9]),)\n",
            "[ 2  4  6  8 10]\n"
          ]
        }
      ]
    },
    {
      "cell_type": "code",
      "source": [
        "# Return Odd Items\n",
        "y = np.where(np1 % 2 == 1)\n",
        "print(y)\n",
        "print(np1[y])"
      ],
      "metadata": {
        "colab": {
          "base_uri": "https://localhost:8080/"
        },
        "id": "qN7I7EQ3pITD",
        "outputId": "7de8cb08-e537-4d3e-b5e9-cba9ec4bd122"
      },
      "execution_count": 6,
      "outputs": [
        {
          "output_type": "stream",
          "name": "stdout",
          "text": [
            "(array([ 0,  2,  4,  6,  8, 10]),)\n",
            "[1 3 5 7 9 3]\n"
          ]
        }
      ]
    },
    {
      "cell_type": "code",
      "source": [
        "# Greater than\n",
        "y = np.where(np1 > 5)\n",
        "print(y)\n",
        "print(np1[y])"
      ],
      "metadata": {
        "colab": {
          "base_uri": "https://localhost:8080/"
        },
        "id": "XMElMug5pMt0",
        "outputId": "5d581376-6ac4-45bc-83d0-457a40ff5e81"
      },
      "execution_count": 7,
      "outputs": [
        {
          "output_type": "stream",
          "name": "stdout",
          "text": [
            "(array([5, 6, 7, 8, 9]),)\n",
            "[ 6  7  8  9 10]\n"
          ]
        }
      ]
    },
    {
      "cell_type": "code",
      "source": [],
      "metadata": {
        "id": "qdJSam-CrWED"
      },
      "execution_count": 7,
      "outputs": []
    }
  ]
}