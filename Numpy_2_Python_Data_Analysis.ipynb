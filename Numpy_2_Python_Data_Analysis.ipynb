{
  "nbformat": 4,
  "nbformat_minor": 0,
  "metadata": {
    "colab": {
      "provenance": [],
      "authorship_tag": "ABX9TyN5nTtC0HS53ZkRORIdfbCr",
      "include_colab_link": true
    },
    "kernelspec": {
      "name": "python3",
      "display_name": "Python 3"
    },
    "language_info": {
      "name": "python"
    }
  },
  "cells": [
    {
      "cell_type": "markdown",
      "metadata": {
        "id": "view-in-github",
        "colab_type": "text"
      },
      "source": [
        "<a href=\"https://colab.research.google.com/github/flatplanet/Data_Analysis_With_Python_Course/blob/main/Numpy_2_Python_Data_Analysis.ipynb\" target=\"_parent\"><img src=\"https://colab.research.google.com/assets/colab-badge.svg\" alt=\"Open In Colab\"/></a>"
      ]
    },
    {
      "cell_type": "code",
      "source": [
        "import numpy as np"
      ],
      "metadata": {
        "id": "U_tOCcfkL_Tm"
      },
      "execution_count": null,
      "outputs": []
    },
    {
      "cell_type": "markdown",
      "source": [
        "# Numeric Python - Slices"
      ],
      "metadata": {
        "id": "2eRzPiSf3e3Q"
      }
    },
    {
      "cell_type": "code",
      "source": [
        "# Slicing NumPy Arrays - Return 2,3,4,5| Slice 1:5 returns 1 up till 5 but not including 5\n",
        "np1 = np.array([1,2,3,4,5,6,7,8,9])\n",
        "print(np1[1:5])  # 5 is up till but not including 5\n",
        "np2 = np1[1:5]\n",
        "print(np2)"
      ],
      "metadata": {
        "colab": {
          "base_uri": "https://localhost:8080/"
        },
        "id": "5Qckd1s6JQrQ",
        "outputId": "8a6ed112-71b8-4d20-ed57-9112e0a795b9"
      },
      "execution_count": null,
      "outputs": [
        {
          "output_type": "stream",
          "name": "stdout",
          "text": [
            "[2 3 4 5]\n",
            "[2 3 4 5]\n"
          ]
        }
      ]
    },
    {
      "cell_type": "code",
      "source": [
        "# Return from something till end or array\n",
        "print(np1[3:])  # :nothing means till the end"
      ],
      "metadata": {
        "colab": {
          "base_uri": "https://localhost:8080/"
        },
        "id": "1iqfLUn2JRjA",
        "outputId": "d50e27f6-47fe-488d-9822-d250b0d5271b"
      },
      "execution_count": null,
      "outputs": [
        {
          "output_type": "stream",
          "name": "stdout",
          "text": [
            "[4 5 6 7 8 9]\n"
          ]
        }
      ]
    },
    {
      "cell_type": "code",
      "source": [
        "# Return negative slices, from the end backwards\n",
        "print(np1[-3:-1])  # -1 is up till but not including -1"
      ],
      "metadata": {
        "colab": {
          "base_uri": "https://localhost:8080/"
        },
        "id": "U920j86RJW5o",
        "outputId": "9bd6aad9-0412-48f6-dadb-b20831f24024"
      },
      "execution_count": null,
      "outputs": [
        {
          "output_type": "stream",
          "name": "stdout",
          "text": [
            "[7 8]\n"
          ]
        }
      ]
    },
    {
      "cell_type": "code",
      "source": [
        "# Slices with Steps\n",
        "print(np1[1:5])\n",
        "print(np1[1:5:3])"
      ],
      "metadata": {
        "colab": {
          "base_uri": "https://localhost:8080/"
        },
        "id": "TZvakBKYJYgo",
        "outputId": "2cb8c1bd-3419-4c10-c502-e52486b620fd"
      },
      "execution_count": null,
      "outputs": [
        {
          "output_type": "stream",
          "name": "stdout",
          "text": [
            "[2 3 4 5]\n",
            "[2 5]\n"
          ]
        }
      ]
    },
    {
      "cell_type": "code",
      "source": [
        "# Slices whole thing in steps\n",
        "print(np1)\n",
        "print(np1[::2])\n"
      ],
      "metadata": {
        "colab": {
          "base_uri": "https://localhost:8080/"
        },
        "id": "YFv_drxFJZ3I",
        "outputId": "4c056846-7538-40d6-b8d4-fbedabc38875"
      },
      "execution_count": null,
      "outputs": [
        {
          "output_type": "stream",
          "name": "stdout",
          "text": [
            "[1 2 3 4 5 6 7 8 9]\n",
            "[1 3 5 7 9]\n"
          ]
        }
      ]
    },
    {
      "cell_type": "code",
      "source": [
        "# Slice a 2-d array\n",
        "np2 = np.array([[1,2,3,4,5],[6,7,8,9,10]])\n",
        "print(np2)"
      ],
      "metadata": {
        "colab": {
          "base_uri": "https://localhost:8080/"
        },
        "id": "W1LNUdQIJbJ5",
        "outputId": "e997ee29-c609-4c00-f833-1dbd8b0c9f2f"
      },
      "execution_count": null,
      "outputs": [
        {
          "output_type": "stream",
          "name": "stdout",
          "text": [
            "[[ 1  2  3  4  5]\n",
            " [ 6  7  8  9 10]]\n"
          ]
        }
      ]
    },
    {
      "cell_type": "code",
      "source": [
        "# Pull out a single item '8'\n",
        "print(np2[1,2])"
      ],
      "metadata": {
        "colab": {
          "base_uri": "https://localhost:8080/"
        },
        "id": "6CzdEhJ5JcZQ",
        "outputId": "49a09178-9935-4aad-b5c6-679190531010"
      },
      "execution_count": null,
      "outputs": [
        {
          "output_type": "stream",
          "name": "stdout",
          "text": [
            "8\n"
          ]
        }
      ]
    },
    {
      "cell_type": "code",
      "source": [
        "# Pull slices from 1 of 2-dimension\n",
        "print(np2[0:1,1:3])  # Row, Item"
      ],
      "metadata": {
        "colab": {
          "base_uri": "https://localhost:8080/"
        },
        "id": "HceVPdKVJdzg",
        "outputId": "9e339941-faeb-492c-c4b3-5ab0f171d525"
      },
      "execution_count": null,
      "outputs": [
        {
          "output_type": "stream",
          "name": "stdout",
          "text": [
            "[[2 3]]\n"
          ]
        }
      ]
    },
    {
      "cell_type": "code",
      "source": [
        "# Pull slices from both dimensions (2,3 and 7,8)\n",
        "print(np2[0:2,1:3])  # row item"
      ],
      "metadata": {
        "colab": {
          "base_uri": "https://localhost:8080/"
        },
        "id": "Ppt5rtG5Jf9w",
        "outputId": "a2a4f1cf-bd40-4fb1-f014-5b94999235e0"
      },
      "execution_count": null,
      "outputs": [
        {
          "output_type": "stream",
          "name": "stdout",
          "text": [
            "[[2 3]\n",
            " [7 8]]\n"
          ]
        }
      ]
    },
    {
      "cell_type": "code",
      "source": [],
      "metadata": {
        "id": "v1t1HpfvJhXw"
      },
      "execution_count": null,
      "outputs": []
    }
  ]
}