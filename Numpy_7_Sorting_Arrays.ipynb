{
  "nbformat": 4,
  "nbformat_minor": 0,
  "metadata": {
    "colab": {
      "provenance": [],
      "authorship_tag": "ABX9TyO5DbwnQGCmxluWNQc1mqr/",
      "include_colab_link": true
    },
    "kernelspec": {
      "name": "python3",
      "display_name": "Python 3"
    },
    "language_info": {
      "name": "python"
    }
  },
  "cells": [
    {
      "cell_type": "markdown",
      "metadata": {
        "id": "view-in-github",
        "colab_type": "text"
      },
      "source": [
        "<a href=\"https://colab.research.google.com/github/flatplanet/Data_Analysis_With_Python_Course/blob/main/Numpy_7_Sorting_Arrays.ipynb\" target=\"_parent\"><img src=\"https://colab.research.google.com/assets/colab-badge.svg\" alt=\"Open In Colab\"/></a>"
      ]
    },
    {
      "cell_type": "markdown",
      "source": [
        "# Numpy Arrays - Sorting"
      ],
      "metadata": {
        "id": "TPO5B6-Zli1W"
      }
    },
    {
      "cell_type": "code",
      "execution_count": 1,
      "metadata": {
        "id": "agXSOMvhlYTI"
      },
      "outputs": [],
      "source": [
        "import numpy as np"
      ]
    },
    {
      "cell_type": "code",
      "source": [
        "# Sort Numerically\n",
        "np1 = np.array([6,7,4,9,0,2,1])\n",
        "print(np1)\n",
        "print(np.sort(np1))"
      ],
      "metadata": {
        "colab": {
          "base_uri": "https://localhost:8080/"
        },
        "id": "eExvQ-0jlgSx",
        "outputId": "2701889e-c764-459c-97e5-a4e576c9e9dc"
      },
      "execution_count": 2,
      "outputs": [
        {
          "output_type": "stream",
          "name": "stdout",
          "text": [
            "[6 7 4 9 0 2 1]\n",
            "[0 1 2 4 6 7 9]\n"
          ]
        }
      ]
    },
    {
      "cell_type": "code",
      "source": [
        "# Reverse?\n",
        "np9 = np.sort(np1)\n",
        "print(np9) # ascending low to high\n",
        "# Reverse it to descending high to low\n",
        "np9 = np9[::-1]\n",
        "print(np9)"
      ],
      "metadata": {
        "colab": {
          "base_uri": "https://localhost:8080/"
        },
        "id": "kmbwRZ85llis",
        "outputId": "01b1d509-0939-41ba-be10-8e87d07a0feb"
      },
      "execution_count": 3,
      "outputs": [
        {
          "output_type": "stream",
          "name": "stdout",
          "text": [
            "[0 1 2 4 6 7 9]\n",
            "[9 7 6 4 2 1 0]\n"
          ]
        }
      ]
    },
    {
      "cell_type": "code",
      "source": [
        "# Sort Alphabetically\n",
        "np2 = np.array([\"John\", \"Bob\", \"April\", \"Aspen\", \"Sally\"])\n",
        "print(np2)\n",
        "# Sort low to high\n",
        "print(np.sort(np2))"
      ],
      "metadata": {
        "colab": {
          "base_uri": "https://localhost:8080/"
        },
        "id": "k3vW4wFzlsLG",
        "outputId": "5c147792-ab14-402f-b3d7-03510e29b4ac"
      },
      "execution_count": 4,
      "outputs": [
        {
          "output_type": "stream",
          "name": "stdout",
          "text": [
            "['John' 'Bob' 'April' 'Aspen' 'Sally']\n",
            "['April' 'Aspen' 'Bob' 'John' 'Sally']\n"
          ]
        }
      ]
    },
    {
      "cell_type": "code",
      "source": [
        "# Sort Booleans T(1)/F(0)\n",
        "np3 = np.array([True, False, False, True])\n",
        "print(np3)\n",
        "print(np.sort(np3))"
      ],
      "metadata": {
        "colab": {
          "base_uri": "https://localhost:8080/"
        },
        "id": "ZFRKKW8FluTp",
        "outputId": "211616d8-d875-43af-d505-8aab41d3df8b"
      },
      "execution_count": 5,
      "outputs": [
        {
          "output_type": "stream",
          "name": "stdout",
          "text": [
            "[ True False False  True]\n",
            "[False False  True  True]\n"
          ]
        }
      ]
    },
    {
      "cell_type": "code",
      "source": [
        "# Sort on 2-D Arrays; sorts in each row\n",
        "np4 = np.array([[6,7,1,9],[8,3,5,0]])\n",
        "print(np.sort(np4))"
      ],
      "metadata": {
        "colab": {
          "base_uri": "https://localhost:8080/"
        },
        "id": "VnuVsai5lvT7",
        "outputId": "280e29e7-82f1-4c80-da7a-9c8e12ca64cc"
      },
      "execution_count": 6,
      "outputs": [
        {
          "output_type": "stream",
          "name": "stdout",
          "text": [
            "[[1 6 7 9]\n",
            " [0 3 5 8]]\n"
          ]
        }
      ]
    },
    {
      "cell_type": "code",
      "source": [],
      "metadata": {
        "id": "5coQQivll7GC"
      },
      "execution_count": 6,
      "outputs": []
    }
  ]
}